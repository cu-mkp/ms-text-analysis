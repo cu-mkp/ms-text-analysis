{
 "cells": [
  {
   "cell_type": "markdown",
   "metadata": {},
   "source": [
    "# Text Analysis and Visualization with Python and the NLTK\n",
    "\n",
    "This notebook was originally prepared for use during a workshop called \"An Introduction to Visualizing Text with Python,\" which took place during [Columbia's Art of Data Visualization week](http://library.columbia.edu/news/events/data-visualization.html) in April 2016. But you can run these commands yourself. To begin, you'll need this software: \n",
    "\n",
    " * Python 3\n",
    " * These Python 3 packages (make sure you don't install their Python 2 versions): \n",
    "   - Jupyter (formerly called iPython Notebook) \n",
    "   - NLTK (the Natural Language Processing Toolkit) \n",
    "   - Pandas (a data science library) \n",
    "   - Wordcloud\n",
    "\n",
    "There are lots of different ways to get this software. You can either install it on your computer, or run it in the cloud. Here are a few different ways of doing that. When you see text in a `monospace typeface`, those are commands to be entered in the terminal. On a Mac, open a terminal by typing \"Terminal\" into Spotlight. On Windows, press Win+R and type `cmd` to get a terminal.  \n",
    "\n",
    "## Installation on Linux\n",
    "\n",
    "1. Make sure your package list is up to date: `sudo apt-get update`\n",
    "1. Get Python 3: `sudo apt-get install python3 python3-pip python3-pandas`\n",
    "2. Get the Python packages: `sudo pip3 install jupyter nltk wordcloud`\n",
    "3. Start a Jupyter notebook: `jupyter notebook`\n",
    "\n",
    "## Installation on Mac or Windows: \n",
    "\n",
    "1. Get Anaconda with Python 3 from https://www.continuum.io/downloads\n",
    "2. Anaconda comes with Pandas, NLTK, and Jupyter, so just install Wordcloud: `conda install --name wordcloud`\n",
    "3. Start Jupyter Notebooks by clicking \"launch\" under \"Jupyter Notebook.\" \n",
    "4. Make a new Python 3 Jupyter Notebook by clicking the menu \"New,\" then \"Python 3.\" \n",
    "\n",
    "## Or Use DHBox\n",
    "\n",
    "1. Go to http://dhbox.org and click \"log in.\" Log into the workshop box with the credentials I gave earlier. \n",
    "2. In the \"dataviz-2017\" profile menu in the top right, click \"Apps.\" \n",
    "2. Click the \"Jupyter Notebook\" tab. \n",
    "3. Make a new Jupyter Notebook by clicking the menu \"New,\" then \"Python 3.\" \n",
    "\n",
    "<!-- \n",
    "## Installation on DHBox \n",
    "\n",
    "DHBox is a platform for running digital humanities (DH) software in the cloud. \n",
    "\n",
    "1. Make a DHBox account on http://dhbox.org, by clicking \"sign up.\"  2. In your user menu in the upper-right corner, select \"Apps.\" \n",
    "3. Click the tab \"Command Line.\" \n",
    "4. Enter the commands from the section \"Installation on Linux\" above. \n",
    "5. Click the tab \"Jupyter Notebooks,\" and enter your password again. \n",
    "\n",
    "One you have all the software installed, you can run the commands below either by copying and pasting them from this notebook, or by running them directly in this notebook, by downloading the notebook and opening it with jupyter (i.e. `jupyter notebook dataviz-workshop.ipynb`). \n",
    "-->"
   ]
  },
  {
   "cell_type": "code",
   "execution_count": 1,
   "metadata": {
    "collapsed": true
   },
   "outputs": [],
   "source": [
    "# Get the Natural Language Processing Toolkit\n",
    "import nltk"
   ]
  },
  {
   "cell_type": "code",
   "execution_count": 2,
   "metadata": {
    "collapsed": false
   },
   "outputs": [],
   "source": [
    "# Get the data science package Pandas\n",
    "import pandas as pd\n",
    "\n",
    "# Get the library matplotlib for making pretty charts\n",
    "import matplotlib\n",
    "import matplotlib.pyplot as plt\n",
    "\n",
    "# Make plots appear here in this notebook\n",
    "%matplotlib inline\n",
    "\n",
    "# This just makes the plot size bigger, so that we can see it easier. \n",
    "plt.rcParams['figure.figsize'] = (12,4)\n",
    "\n",
    "# We'll use the OS module to download things. \n",
    "import os"
   ]
  },
  {
   "cell_type": "markdown",
   "metadata": {},
   "source": [
    "## Work with our Own Text"
   ]
  },
  {
   "cell_type": "code",
   "execution_count": 3,
   "metadata": {
    "collapsed": false
   },
   "outputs": [
    {
     "data": {
      "text/plain": [
       "32256"
      ]
     },
     "execution_count": 3,
     "metadata": {},
     "output_type": "execute_result"
    }
   ],
   "source": [
    "# Download text version of BnF Ms Fr 640 transcription\n",
    "os.system('./txt/all_tc.txt')"
   ]
  },
  {
   "cell_type": "code",
   "execution_count": 4,
   "metadata": {
    "collapsed": false
   },
   "outputs": [],
   "source": [
    "# Tokenize it (break it into words), and make an NLTK Text object out of it. \n",
    "tcRaw = open('./txt/all_tc.txt').read()\n",
    "tcWords = nltk.word_tokenize(tcRaw)\n",
    "tc = nltk.Text(tcWords)"
   ]
  },
  {
   "cell_type": "code",
   "execution_count": 5,
   "metadata": {
    "collapsed": false
   },
   "outputs": [
    {
     "data": {
      "text/plain": [
       "<Text: 001r Maist re Nicolas Coste a la rue...>"
      ]
     },
     "execution_count": 5,
     "metadata": {},
     "output_type": "execute_result"
    }
   ],
   "source": [
    "tc"
   ]
  },
  {
   "cell_type": "markdown",
   "metadata": {},
   "source": [
    "## Exploring Texts\n",
    "\n",
    "Let's explore the text a little. One thing we can do is look at statistically significant co-occurring two-word phrases, here known as *collocations*: "
   ]
  },
  {
   "cell_type": "code",
   "execution_count": 6,
   "metadata": {
    "collapsed": false
   },
   "outputs": [
    {
     "name": "stdout",
     "output_type": "stream",
     "text": [
      "qui est; ceste sorte; sel armoniac; ton moule; nest pas; affin que;\n",
      "commun ement; fort net; avecq une; quil soict; quelque chose; non pas;\n",
      "bien tost; dans leau; long temps; pour faire; affin quil; plustost\n",
      "que; qui sont; est plus\n"
     ]
    }
   ],
   "source": [
    "tc.collocations()"
   ]
  },
  {
   "cell_type": "code",
   "execution_count": 13,
   "metadata": {
    "collapsed": false
   },
   "outputs": [
    {
     "name": "stdout",
     "output_type": "stream",
     "text": [
      "Colonel Brandon; Sir John; Lady Middleton; Miss Dashwood; every thing;\n",
      "thousand pounds; dare say; Miss Steeles; said Elinor; Miss Steele;\n",
      "every body; John Dashwood; great deal; Harley Street; Berkeley Street;\n",
      "Miss Dashwoods; young man; Combe Magna; every day; next morning\n"
     ]
    }
   ],
   "source": [
    "text2.collocations()"
   ]
  },
  {
   "cell_type": "markdown",
   "metadata": {},
   "source": [
    "But what if we get tired of doing that for each text, and want to do it with all of them? \n",
    "Let's put the texts into a list."
   ]
  },
  {
   "cell_type": "code",
   "execution_count": 9,
   "metadata": {
    "collapsed": true
   },
   "outputs": [],
   "source": [
    "alltexts = [text1, text2, text3, text4, text5, text6, text7, text8, text9, alice]"
   ]
  },
  {
   "cell_type": "markdown",
   "metadata": {},
   "source": [
    "Let's look at it to make sure it's all there. "
   ]
  },
  {
   "cell_type": "code",
   "execution_count": 23,
   "metadata": {
    "collapsed": false
   },
   "outputs": [
    {
     "ename": "NameError",
     "evalue": "name 'alltexts' is not defined",
     "output_type": "error",
     "traceback": [
      "\u001b[0;31m---------------------------------------------------------------------------\u001b[0m",
      "\u001b[0;31mNameError\u001b[0m                                 Traceback (most recent call last)",
      "\u001b[0;32m<ipython-input-23-a52dbfd2a245>\u001b[0m in \u001b[0;36m<module>\u001b[0;34m()\u001b[0m\n\u001b[0;32m----> 1\u001b[0;31m \u001b[0malltexts\u001b[0m\u001b[0;34m\u001b[0m\u001b[0m\n\u001b[0m",
      "\u001b[0;31mNameError\u001b[0m: name 'alltexts' is not defined"
     ]
    }
   ],
   "source": [
    "alltexts"
   ]
  },
  {
   "cell_type": "markdown",
   "metadata": {},
   "source": [
    "Now that we have a list of all the texts, we can loop through each one, running the `collocations()` function on each: "
   ]
  },
  {
   "cell_type": "code",
   "execution_count": 11,
   "metadata": {
    "collapsed": false
   },
   "outputs": [
    {
     "name": "stdout",
     "output_type": "stream",
     "text": [
      "Sperm Whale; Moby Dick; White Whale; old man; Captain Ahab; sperm\n",
      "whale; Right Whale; Captain Peleg; New Bedford; Cape Horn; cried Ahab;\n",
      "years ago; lower jaw; never mind; Father Mapple; cried Stubb; chief\n",
      "mate; white whale; ivory leg; one hand\n",
      "---\n",
      "Colonel Brandon; Sir John; Lady Middleton; Miss Dashwood; every thing;\n",
      "thousand pounds; dare say; Miss Steeles; said Elinor; Miss Steele;\n",
      "every body; John Dashwood; great deal; Harley Street; Berkeley Street;\n",
      "Miss Dashwoods; young man; Combe Magna; every day; next morning\n",
      "---\n",
      "said unto; pray thee; thou shalt; thou hast; thy seed; years old;\n",
      "spake unto; thou art; LORD God; every living; God hath; begat sons;\n",
      "seven years; shalt thou; little ones; living creature; creeping thing;\n",
      "savoury meat; thirty years; every beast\n",
      "---\n",
      "United States; fellow citizens; four years; years ago; Federal\n",
      "Government; General Government; American people; Vice President; Old\n",
      "World; Almighty God; Fellow citizens; Chief Magistrate; Chief Justice;\n",
      "God bless; every citizen; Indian tribes; public debt; one another;\n",
      "foreign nations; political parties\n",
      "---\n",
      "wanna chat; PART JOIN; MODE #14-19teens; JOIN PART; PART PART;\n",
      "cute.-ass MP3; MP3 player; JOIN JOIN; times .. .; ACTION watches; guys\n",
      "wanna; song lasts; last night; ACTION sits; -...)...- S.M.R.; Lime\n",
      "Player; Player 12%; dont know; lez gurls; long time\n",
      "---\n",
      "BLACK KNIGHT; clop clop; HEAD KNIGHT; mumble mumble; Holy Grail;\n",
      "squeak squeak; FRENCH GUARD; saw saw; Sir Robin; Run away; CARTOON\n",
      "CHARACTER; King Arthur; Iesu domine; Pie Iesu; DEAD PERSON; Round\n",
      "Table; clap clap; OLD MAN; dramatic chord; dona eis\n",
      "---\n",
      "million *U*; New York; billion *U*; Wall Street; program trading; Mrs.\n",
      "Yeargin; vice president; Stock Exchange; Big Board; Georgia Gulf;\n",
      "chief executive; Dow Jones; S&P 500; says *T*-1; York Stock; last\n",
      "year; Sea Containers; South Korea; American Express; San Francisco\n",
      "---\n",
      "would like; medium build; social drinker; quiet nights; non smoker;\n",
      "long term; age open; Would like; easy going; financially secure; fun\n",
      "times; similar interests; Age open; weekends away; poss rship; well\n",
      "presented; never married; single mum; permanent relationship; slim\n",
      "build\n",
      "---\n",
      "said Syme; asked Syme; Saffron Park; Comrade Gregory; Leicester\n",
      "Square; Colonel Ducroix; red hair; old gentleman; could see; Inspector\n",
      "Ratcliffe; Anarchist Council; blue card; Scotland Yard; dark room;\n",
      "blue eyes; common sense; straw hat; hundred yards; said Gregory; run\n",
      "away\n",
      "---\n",
      "Mock Turtle; Project Gutenberg-tm; said Alice; March Hare; White\n",
      "Rabbit; Project Gutenberg; Literary Archive; Gutenberg Literary;\n",
      "Gutenberg-tm electronic; electronic works; Archive Foundation; United\n",
      "States; ‘Of course; thought Alice; public domain; set forth;\n",
      "electronic work; golden key; “Project Gutenberg”; Gutenberg-tm License\n",
      "---\n"
     ]
    }
   ],
   "source": [
    "for text in alltexts:     # For each text in the list \"alltexts,\"\n",
    "    text.collocations()   # Get the collocations\n",
    "    print('---')          # Print a divider between the collocations"
   ]
  },
  {
   "cell_type": "markdown",
   "metadata": {},
   "source": [
    "## Concordances and Dispersion Plots\n",
    "\n",
    "Now let's look up an individual word in a text, and have NLTK give us some context: "
   ]
  },
  {
   "cell_type": "code",
   "execution_count": 32,
   "metadata": {
    "collapsed": false
   },
   "outputs": [
    {
     "name": "stdout",
     "output_type": "stream",
     "text": [
      "Displaying 25 of 234 matches:\n",
      "siere Il fault donner comme tu scais petit foeu au commencement Et tenir toujou\n",
      "a celle dembas un trou gros comme le petit doigt tout rond de part en part puys\n",
      " poys selon la quantite du bol et un petit de charbon de saule ou aultant que d\n",
      "ur que tu vouldras si tu encoches un petit lendroict a rompre avecq une lime qu\n",
      " aussi si long que tu veulx dan s un petit fourneau faict comme un four de reve\n",
      "r laultre puys on lenchasse avecq un petit manche et on assoict le coste plat s\n",
      "osses pieces Leur qualibre aussy est petit qui leur faict donner 3 balles a la \n",
      "r la deffence des pieces On tient le petit magasin de pouldres de trois ou quat\n",
      "in Quand tu en vouldras user fais un petit pertuis au tapon de la bouteille & e\n",
      "er dune corde grosse corde comm e le petit doigt & lapuyent ferme sur la barre \n",
      "entre les mains sans soufler Ayes un petit baston douzier entre bien sec et en \n",
      "zier entre bien sec et en couppe une petit piece comme un curedant & la m mects\n",
      " Au bort du hault fais quil y aye un petit pertuis & au un aultre un peu plus g\n",
      "st de cerises noires Et tenant le du petit doigt le pertuis de la queue bouché \n",
      "lair a toy en beuvant a lendroict du petit pertuis Apres fais boire a lun des v\n",
      "dun gros baston X Tu en coupperas un petit loppin gros comme un curedent X & ai\n",
      "as ne toy aussy Ayes une fisselle ou petit baston et prens la mesure despuys le\n",
      " de a couldre subtil de cuir Fais un petit estuy de cuyr simple comm e de vache\n",
      " dedans soy le de a couldre entre le petit doit & lannulaire Et ce de la main d\n",
      "ecq une espingle manchee au bout dun petit baston suys les lignes de ton histoi\n",
      "ltre tyssu Et passant entre deulx un petit baston plat large de ii ou trois doi\n",
      "res avoyr nettoye les dents avecq un petit burin touche les legerement avecq un\n",
      "ttre costes Tiens la par le bout dun petit baston fendu Et tenant le dict basto\n",
      "ler des amendes avecq de la mie fort petit de mie de pain et de la graine de le\n",
      "n peu de sublime Il se gecte bien en petit dans los de seiche pourveu quil soic\n"
     ]
    }
   ],
   "source": [
    "tc.concordance('petit')"
   ]
  },
  {
   "cell_type": "markdown",
   "metadata": {},
   "source": [
    "Not bad. But what if we want to see visually where those words occur over the course of the text? We can use the function `dispersion_plot`:"
   ]
  },
  {
   "cell_type": "code",
   "execution_count": 31,
   "metadata": {
    "collapsed": false
   },
   "outputs": [
    {
     "data": {
      "image/png": "[encoded data removed]",
      "text/plain": [
       "<matplotlib.figure.Figure at 0x114ad1da0>"
      ]
     },
     "metadata": {},
     "output_type": "display_data"
    }
   ],
   "source": [
    "tc.dispersion_plot(['grand', 'fine', 'gros', 'petit'])"
   ]
  },
  {
   "cell_type": "markdown",
   "metadata": {},
   "source": [
    "Let's try that on Moby Dick: "
   ]
  },
  {
   "cell_type": "code",
   "execution_count": 14,
   "metadata": {
    "collapsed": false
   },
   "outputs": [
    {
     "data": {
      "image/png": "[encoded data removed]",
      "text/plain": [
       "<matplotlib.figure.Figure at 0x7f0659446630>"
      ]
     },
     "metadata": {},
     "output_type": "display_data"
    }
   ],
   "source": [
    "text1.dispersion_plot(['Ahab', 'Ishmael', 'whale'])"
   ]
  },
  {
   "cell_type": "markdown",
   "metadata": {},
   "source": [
    "By looking at dispersion plots of characters' names, we can almost tell which characters in Sense and Sensibility have romantic relationships: "
   ]
  },
  {
   "cell_type": "code",
   "execution_count": 15,
   "metadata": {
    "collapsed": false
   },
   "outputs": [
    {
     "data": {
      "image/png": "[encoded data removed]",
      "text/plain": [
       "<matplotlib.figure.Figure at 0x7f06202772e8>"
      ]
     },
     "metadata": {},
     "output_type": "display_data"
    }
   ],
   "source": [
    "text2.dispersion_plot(['Elinor', 'Marianne', 'Edward', 'Willoughby'])"
   ]
  },
  {
   "cell_type": "markdown",
   "metadata": {},
   "source": [
    "## Measuring Text Vocabulary\n",
    "\n",
    "We can use the `len` (length) function to count the total number of words in a text: "
   ]
  },
  {
   "cell_type": "code",
   "execution_count": 12,
   "metadata": {
    "collapsed": false
   },
   "outputs": [
    {
     "data": {
      "text/plain": [
       "125991"
      ]
     },
     "execution_count": 12,
     "metadata": {},
     "output_type": "execute_result"
    }
   ],
   "source": [
    "len(tc)"
   ]
  },
  {
   "cell_type": "markdown",
   "metadata": {},
   "source": [
    "And we can do this for all the texts by putting it in a lookup function, like this: "
   ]
  },
  {
   "cell_type": "code",
   "execution_count": 17,
   "metadata": {
    "collapsed": false
   },
   "outputs": [
    {
     "data": {
      "text/plain": [
       "{'Chat Corpus': 45010,\n",
       " 'Inaugural Address Corpus': 145735,\n",
       " 'Moby Dick by Herman Melville 1851': 260819,\n",
       " 'Monty Python and the Holy Grail': 16967,\n",
       " 'Personals Corpus': 4867,\n",
       " 'Sense and Sensibility by Jane Austen 1811': 141576,\n",
       " 'The Book of Genesis': 44764,\n",
       " 'The Man Who Was Thursday by G . K . Chesterton 1908': 69213,\n",
       " 'Wall Street Journal': 100676,\n",
       " '\\ufeffProject Gutenberg’s Alice’s Adventures in Wonderland , by...': 35585}"
      ]
     },
     "execution_count": 17,
     "metadata": {},
     "output_type": "execute_result"
    }
   ],
   "source": [
    "lengths = {text.name: len(text) for text in alltexts}\n",
    "lengths"
   ]
  },
  {
   "cell_type": "markdown",
   "metadata": {},
   "source": [
    "If we import this table into Pandas, we can see this data a little easier "
   ]
  },
  {
   "cell_type": "code",
   "execution_count": 18,
   "metadata": {
    "collapsed": false
   },
   "outputs": [
    {
     "data": {
      "text/plain": [
       "Chat Corpus                                                       45010\n",
       "Inaugural Address Corpus                                         145735\n",
       "Moby Dick by Herman Melville 1851                                260819\n",
       "Monty Python and the Holy Grail                                   16967\n",
       "Personals Corpus                                                   4867\n",
       "Sense and Sensibility by Jane Austen 1811                        141576\n",
       "The Book of Genesis                                               44764\n",
       "The Man Who Was Thursday by G . K . Chesterton 1908               69213\n",
       "Wall Street Journal                                              100676\n",
       "﻿Project Gutenberg’s Alice’s Adventures in Wonderland , by...     35585\n",
       "dtype: int64"
      ]
     },
     "execution_count": 18,
     "metadata": {},
     "output_type": "execute_result"
    }
   ],
   "source": [
    "pd.Series(lengths)"
   ]
  },
  {
   "cell_type": "markdown",
   "metadata": {},
   "source": [
    "And by plotting it, we can get a better visual representation: "
   ]
  },
  {
   "cell_type": "code",
   "execution_count": 19,
   "metadata": {
    "collapsed": false
   },
   "outputs": [
    {
     "data": {
      "text/plain": [
       "<matplotlib.axes._subplots.AxesSubplot at 0x7f0620ebf320>"
      ]
     },
     "execution_count": 19,
     "metadata": {},
     "output_type": "execute_result"
    },
    {
     "data": {
      "image/png": "[encoded data removed]",
      "text/plain": [
       "<matplotlib.figure.Figure at 0x7f062004a400>"
      ]
     },
     "metadata": {},
     "output_type": "display_data"
    }
   ],
   "source": [
    "pd.Series(lengths).plot(kind='bar')"
   ]
  },
  {
   "cell_type": "markdown",
   "metadata": {
    "collapsed": false
   },
   "source": [
    "But word counts themselves are not very interesting, so let's see if we can not only count the words, \n",
    "but count the vocabulary of a text. To do that, we can use `set()`, which will count every word once. "
   ]
  },
  {
   "cell_type": "code",
   "execution_count": 20,
   "metadata": {
    "collapsed": false
   },
   "outputs": [
    {
     "data": {
      "text/plain": [
       "['the', 'the', 'the', 'the', 'the', \"that's\", 'all', 'folks']"
      ]
     },
     "execution_count": 20,
     "metadata": {},
     "output_type": "execute_result"
    }
   ],
   "source": [
    "porky_sentence = \"the the the the the that's all folks\"\n",
    "porky_words = porky_sentence.split()\n",
    "porky_words"
   ]
  },
  {
   "cell_type": "markdown",
   "metadata": {},
   "source": [
    "We can count the words in the sentence easily: "
   ]
  },
  {
   "cell_type": "code",
   "execution_count": 21,
   "metadata": {
    "collapsed": false
   },
   "outputs": [
    {
     "data": {
      "text/plain": [
       "8"
      ]
     },
     "execution_count": 21,
     "metadata": {},
     "output_type": "execute_result"
    }
   ],
   "source": [
    "len(porky_words)"
   ]
  },
  {
   "cell_type": "markdown",
   "metadata": {},
   "source": [
    "To count the words, but ignore repeated words, we can use the function set(). "
   ]
  },
  {
   "cell_type": "code",
   "execution_count": 22,
   "metadata": {
    "collapsed": false
   },
   "outputs": [
    {
     "data": {
      "text/plain": [
       "{'all', 'folks', \"that's\", 'the'}"
      ]
     },
     "execution_count": 22,
     "metadata": {},
     "output_type": "execute_result"
    }
   ],
   "source": [
    "set(porky_words)"
   ]
  },
  {
   "cell_type": "markdown",
   "metadata": {},
   "source": [
    "So if we count this set, we can determine the vocabulary of a text:"
   ]
  },
  {
   "cell_type": "code",
   "execution_count": 23,
   "metadata": {
    "collapsed": false
   },
   "outputs": [
    {
     "data": {
      "text/plain": [
       "4"
      ]
     },
     "execution_count": 23,
     "metadata": {},
     "output_type": "execute_result"
    }
   ],
   "source": [
    "len(set(porky_words))"
   ]
  },
  {
   "cell_type": "markdown",
   "metadata": {},
   "source": [
    "Let's see if we can find the vocabulary of Moby Dick."
   ]
  },
  {
   "cell_type": "markdown",
   "metadata": {},
   "source": [
    "Pretty big, but then again, Moby Dick is kind of a long novel. \n",
    "We can adjust for the words by adjusting for the total words: "
   ]
  },
  {
   "cell_type": "code",
   "execution_count": 13,
   "metadata": {
    "collapsed": false
   },
   "outputs": [
    {
     "data": {
      "text/plain": [
       "11067"
      ]
     },
     "execution_count": 13,
     "metadata": {},
     "output_type": "execute_result"
    }
   ],
   "source": [
    "len(set(tc))"
   ]
  },
  {
   "cell_type": "code",
   "execution_count": 14,
   "metadata": {
    "collapsed": false
   },
   "outputs": [
    {
     "data": {
      "text/plain": [
       "11.384386012469504"
      ]
     },
     "execution_count": 14,
     "metadata": {},
     "output_type": "execute_result"
    }
   ],
   "source": [
    "len(tc) / len(set(tc))"
   ]
  },
  {
   "cell_type": "markdown",
   "metadata": {},
   "source": [
    "This would get tedious if we did this for every text, so let's write a function!"
   ]
  },
  {
   "cell_type": "code",
   "execution_count": 16,
   "metadata": {
    "collapsed": true
   },
   "outputs": [],
   "source": [
    "def vocab(text):                       # Define a function called `vocab` that takes the input `text` \n",
    "    return len(text) / len(set(text))  # Divide the number of words by the number of unique words.  "
   ]
  },
  {
   "cell_type": "code",
   "execution_count": 17,
   "metadata": {
    "collapsed": false
   },
   "outputs": [
    {
     "data": {
      "text/plain": [
       "11.384386012469504"
      ]
     },
     "execution_count": 17,
     "metadata": {},
     "output_type": "execute_result"
    }
   ],
   "source": [
    "vocab(tc)"
   ]
  },
  {
   "cell_type": "markdown",
   "metadata": {},
   "source": [
    "Let's go through each text, and get its vocabulary, and put it in a table. "
   ]
  },
  {
   "cell_type": "code",
   "execution_count": 28,
   "metadata": {
    "collapsed": true
   },
   "outputs": [],
   "source": [
    "vocabularies = {text.name: vocab(text) for text in alltexts}"
   ]
  },
  {
   "cell_type": "markdown",
   "metadata": {},
   "source": [
    "Let's put that table into Pandas so we can see it better: "
   ]
  },
  {
   "cell_type": "code",
   "execution_count": 29,
   "metadata": {
    "collapsed": false
   },
   "outputs": [
    {
     "data": {
      "text/plain": [
       "Chat Corpus                                                       7.420046\n",
       "Inaugural Address Corpus                                         14.941050\n",
       "Moby Dick by Herman Melville 1851                                13.502045\n",
       "Monty Python and the Holy Grail                                   7.833333\n",
       "Personals Corpus                                                  4.392599\n",
       "Sense and Sensibility by Jane Austen 1811                        20.719450\n",
       "The Book of Genesis                                              16.050197\n",
       "The Man Who Was Thursday by G . K . Chesterton 1908              10.167915\n",
       "Wall Street Journal                                               8.113798\n",
       "﻿Project Gutenberg’s Alice’s Adventures in Wonderland , by...     8.775586\n",
       "dtype: float64"
      ]
     },
     "execution_count": 29,
     "metadata": {},
     "output_type": "execute_result"
    }
   ],
   "source": [
    "pd.Series(vocabularies)"
   ]
  },
  {
   "cell_type": "markdown",
   "metadata": {},
   "source": [
    "Now let's plot that:"
   ]
  },
  {
   "cell_type": "code",
   "execution_count": 30,
   "metadata": {
    "collapsed": false
   },
   "outputs": [
    {
     "data": {
      "text/plain": [
       "<matplotlib.axes._subplots.AxesSubplot at 0x7f06200680b8>"
      ]
     },
     "execution_count": 30,
     "metadata": {},
     "output_type": "execute_result"
    },
    {
     "data": {
      "image/png": "[encoded data removed]",
      "text/plain": [
       "<matplotlib.figure.Figure at 0x7f061fb81128>"
      ]
     },
     "metadata": {},
     "output_type": "display_data"
    }
   ],
   "source": [
    "pd.Series(vocabularies).plot(kind='bar')"
   ]
  },
  {
   "cell_type": "markdown",
   "metadata": {},
   "source": [
    "OK, now let's make a famous wordcloud from a text. This just takes the most statistically significant words, and plots them where the size of each word corresponds to its frequency. "
   ]
  },
  {
   "cell_type": "code",
   "execution_count": 18,
   "metadata": {
    "collapsed": false
   },
   "outputs": [
    {
     "ename": "ModuleNotFoundError",
     "evalue": "No module named 'wordcloud'",
     "output_type": "error",
     "traceback": [
      "\u001b[0;31m---------------------------------------------------------------------------\u001b[0m",
      "\u001b[0;31mModuleNotFoundError\u001b[0m                       Traceback (most recent call last)",
      "\u001b[0;32m<ipython-input-18-a69dd25c2134>\u001b[0m in \u001b[0;36m<module>\u001b[0;34m()\u001b[0m\n\u001b[0;32m----> 1\u001b[0;31m \u001b[0;32mfrom\u001b[0m \u001b[0mwordcloud\u001b[0m \u001b[0;32mimport\u001b[0m \u001b[0mWordCloud\u001b[0m \u001b[0;31m# Get the library\u001b[0m\u001b[0;34m\u001b[0m\u001b[0m\n\u001b[0m",
      "\u001b[0;31mModuleNotFoundError\u001b[0m: No module named 'wordcloud'"
     ]
    }
   ],
   "source": [
    "from wordcloud import WordCloud # Get the library"
   ]
  },
  {
   "cell_type": "code",
   "execution_count": 19,
   "metadata": {
    "collapsed": false
   },
   "outputs": [
    {
     "ename": "NameError",
     "evalue": "name 'WordCloud' is not defined",
     "output_type": "error",
     "traceback": [
      "\u001b[0;31m---------------------------------------------------------------------------\u001b[0m",
      "\u001b[0;31mNameError\u001b[0m                                 Traceback (most recent call last)",
      "\u001b[0;32m<ipython-input-19-bcdc7c8fb190>\u001b[0m in \u001b[0;36m<module>\u001b[0;34m()\u001b[0m\n\u001b[1;32m      1\u001b[0m \u001b[0mrawtext\u001b[0m \u001b[0;34m=\u001b[0m \u001b[0;34m' '\u001b[0m\u001b[0;34m.\u001b[0m\u001b[0mjoin\u001b[0m\u001b[0;34m(\u001b[0m\u001b[0mtl\u001b[0m\u001b[0;34m.\u001b[0m\u001b[0mtokens\u001b[0m\u001b[0;34m)\u001b[0m \u001b[0;31m# Stitch it back together.\u001b[0m\u001b[0;34m\u001b[0m\u001b[0m\n\u001b[0;32m----> 2\u001b[0;31m \u001b[0mwc\u001b[0m \u001b[0;34m=\u001b[0m \u001b[0mWordCloud\u001b[0m\u001b[0;34m(\u001b[0m\u001b[0mwidth\u001b[0m\u001b[0;34m=\u001b[0m\u001b[0;36m1000\u001b[0m\u001b[0;34m,\u001b[0m \u001b[0mheight\u001b[0m\u001b[0;34m=\u001b[0m\u001b[0;36m600\u001b[0m\u001b[0;34m,\u001b[0m \u001b[0mbackground_color\u001b[0m\u001b[0;34m=\u001b[0m\u001b[0;34m'white'\u001b[0m\u001b[0;34m)\u001b[0m\u001b[0;34m.\u001b[0m\u001b[0mgenerate\u001b[0m\u001b[0;34m(\u001b[0m\u001b[0mrawtext\u001b[0m\u001b[0;34m)\u001b[0m\u001b[0;34m\u001b[0m\u001b[0m\n\u001b[0m\u001b[1;32m      3\u001b[0m \u001b[0;31m# This just makes the plot size bigger, so that we can see it easier.\u001b[0m\u001b[0;34m\u001b[0m\u001b[0;34m\u001b[0m\u001b[0m\n\u001b[1;32m      4\u001b[0m \u001b[0mplt\u001b[0m\u001b[0;34m.\u001b[0m\u001b[0mrcParams\u001b[0m\u001b[0;34m[\u001b[0m\u001b[0;34m'figure.figsize'\u001b[0m\u001b[0;34m]\u001b[0m \u001b[0;34m=\u001b[0m \u001b[0;34m(\u001b[0m\u001b[0;36m12\u001b[0m\u001b[0;34m,\u001b[0m\u001b[0;36m4\u001b[0m\u001b[0;34m)\u001b[0m\u001b[0;34m\u001b[0m\u001b[0m\n\u001b[1;32m      5\u001b[0m \u001b[0mplt\u001b[0m\u001b[0;34m.\u001b[0m\u001b[0mfigure\u001b[0m\u001b[0;34m(\u001b[0m\u001b[0;34m)\u001b[0m\u001b[0;34m\u001b[0m\u001b[0m\n",
      "\u001b[0;31mNameError\u001b[0m: name 'WordCloud' is not defined"
     ]
    }
   ],
   "source": [
    "rawtext = ' '.join(tl.tokens) # Stitch it back together. \n",
    "wc = WordCloud(width=1000, height=600, background_color='white').generate(rawtext)\n",
    "# This just makes the plot size bigger, so that we can see it easier. \n",
    "plt.rcParams['figure.figsize'] = (12,4)\n",
    "plt.figure()\n",
    "plt.axis('off')                          # Turn off axis ticks\n",
    "plt.imshow(wc, interpolation=\"bilinear\");# Plot it"
   ]
  },
  {
   "cell_type": "markdown",
   "metadata": {},
   "source": [
    "# Plotting Words (Conditional Frequency Distributions)"
   ]
  },
  {
   "cell_type": "markdown",
   "metadata": {},
   "source": [
    "Now let's take a look at the inaugural address corpus in detail. "
   ]
  },
  {
   "cell_type": "code",
   "execution_count": 33,
   "metadata": {
    "collapsed": false
   },
   "outputs": [],
   "source": [
    "from nltk.corpus import inaugural"
   ]
  },
  {
   "cell_type": "markdown",
   "metadata": {},
   "source": [
    "We'll set up a conditional word frequency distribution for it, \n",
    "pairing off a list of words with the list of inaugural addresses. "
   ]
  },
  {
   "cell_type": "code",
   "execution_count": 34,
   "metadata": {
    "collapsed": false
   },
   "outputs": [
    {
     "data": {
      "image/png": "[encoded data removed]",
      "text/plain": [
       "<matplotlib.figure.Figure at 0x7f061fe039b0>"
      ]
     },
     "metadata": {},
     "output_type": "display_data"
    }
   ],
   "source": [
    "plt.rcParams['figure.figsize'] = (14,5) # Adjust the plot size. \n",
    "cfd = nltk.ConditionalFreqDist(\n",
    "           (target, fileid[:4])\n",
    "           for fileid in inaugural.fileids()\n",
    "           for w in inaugural.words(fileid)\n",
    "           for target in ['america', 'citizen']\n",
    "           if w.lower().startswith(target))\n",
    "cfd.plot()"
   ]
  },
  {
   "cell_type": "markdown",
   "metadata": {},
   "source": [
    "You can replace the words 'america' and 'citizen' here with whatever words you want, to further explore this corpus."
   ]
  },
  {
   "cell_type": "markdown",
   "metadata": {},
   "source": [
    "Now let's play around with the Brown corpus. It's a categorized text corpus. Let's see all the categories: "
   ]
  },
  {
   "cell_type": "code",
   "execution_count": 35,
   "metadata": {
    "collapsed": false
   },
   "outputs": [
    {
     "data": {
      "text/plain": [
       "['adventure',\n",
       " 'belles_lettres',\n",
       " 'editorial',\n",
       " 'fiction',\n",
       " 'government',\n",
       " 'hobbies',\n",
       " 'humor',\n",
       " 'learned',\n",
       " 'lore',\n",
       " 'mystery',\n",
       " 'news',\n",
       " 'religion',\n",
       " 'reviews',\n",
       " 'romance',\n",
       " 'science_fiction']"
      ]
     },
     "execution_count": 35,
     "metadata": {},
     "output_type": "execute_result"
    }
   ],
   "source": [
    "nltk.corpus.brown.categories()"
   ]
  },
  {
   "cell_type": "markdown",
   "metadata": {},
   "source": [
    "Now let's create another conditional frequency distribution, this time based on these genres. "
   ]
  },
  {
   "cell_type": "code",
   "execution_count": 36,
   "metadata": {
    "collapsed": false
   },
   "outputs": [],
   "source": [
    "genres = ['adventure', 'romance', 'science_fiction']\n",
    "words = ['can', 'could', 'may', 'might', 'must', 'will']\n",
    "cfdist = nltk.ConditionalFreqDist(\n",
    "              (genre, word)\n",
    "              for genre in genres\n",
    "              for word in nltk.corpus.brown.words(categories=genre)\n",
    "              if word in words)"
   ]
  },
  {
   "cell_type": "code",
   "execution_count": 37,
   "metadata": {
    "collapsed": false
   },
   "outputs": [
    {
     "data": {
      "text/plain": [
       "ConditionalFreqDist(nltk.probability.FreqDist,\n",
       "                    {'adventure': FreqDist({'can': 46,\n",
       "                               'could': 151,\n",
       "                               'may': 5,\n",
       "                               'might': 58,\n",
       "                               'must': 27,\n",
       "                               'will': 50}),\n",
       "                     'romance': FreqDist({'can': 74,\n",
       "                               'could': 193,\n",
       "                               'may': 11,\n",
       "                               'might': 51,\n",
       "                               'must': 45,\n",
       "                               'will': 43}),\n",
       "                     'science_fiction': FreqDist({'can': 16,\n",
       "                               'could': 49,\n",
       "                               'may': 4,\n",
       "                               'might': 12,\n",
       "                               'must': 8,\n",
       "                               'will': 16})})"
      ]
     },
     "execution_count": 37,
     "metadata": {},
     "output_type": "execute_result"
    }
   ],
   "source": [
    "cfdist"
   ]
  },
  {
   "cell_type": "markdown",
   "metadata": {},
   "source": [
    "Finally, we can plot these words by genre: "
   ]
  },
  {
   "cell_type": "code",
   "execution_count": 38,
   "metadata": {
    "collapsed": false
   },
   "outputs": [
    {
     "data": {
      "text/plain": [
       "<matplotlib.axes._subplots.AxesSubplot at 0x7f061fdfe080>"
      ]
     },
     "execution_count": 38,
     "metadata": {},
     "output_type": "execute_result"
    },
    {
     "data": {
      "image/png": "[encoded data removed]",
      "text/plain": [
       "<matplotlib.figure.Figure at 0x7f061fee0630>"
      ]
     },
     "metadata": {},
     "output_type": "display_data"
    }
   ],
   "source": [
    "pd.DataFrame(cfdist).T.plot(kind='bar')"
   ]
  },
  {
   "cell_type": "markdown",
   "metadata": {
    "collapsed": true
   },
   "source": [
    "Play around with this CFD a bit by changing the genres and words used above. "
   ]
  },
  {
   "cell_type": "markdown",
   "metadata": {},
   "source": [
    "# Further resources\n",
    "\n",
    "To learn more, check out the NLTK book (from which a lot of the examples here were adapted): http://nltk.org/book\n",
    "\n",
    "To see what's possible with more advanced techniques, using the [SpaCy](http://spacy.io) library, check out [my workshop notebook in advanced text analysis](https://github.com/JonathanReeve/advanced-text-analysis-workshop-2017/blob/master/advanced-text-analysis.ipynb). \n",
    "\n",
    "Read about some experiments in text analysis on my blog: http://jonreeve.com"
   ]
  },
  {
   "cell_type": "code",
   "execution_count": null,
   "metadata": {
    "collapsed": true
   },
   "outputs": [],
   "source": []
  }
 ],
 "metadata": {
  "celltoolbar": "Raw Cell Format",
  "kernelspec": {
   "display_name": "Python 3",
   "language": "python",
   "name": "python3"
  },
  "language_info": {
   "codemirror_mode": {
    "name": "ipython",
    "version": 3
   },
   "file_extension": ".py",
   "mimetype": "text/x-python",
   "name": "python",
   "nbconvert_exporter": "python",
   "pygments_lexer": "ipython3",
   "version": "3.6.0"
  }
 },
 "nbformat": 4,
 "nbformat_minor": 0
}
